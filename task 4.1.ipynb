{
 "cells": [
  {
   "cell_type": "code",
   "execution_count": 1,
   "metadata": {},
   "outputs": [],
   "source": [
    "import numpy as np\n"
   ]
  },
  {
   "cell_type": "code",
   "execution_count": 2,
   "metadata": {},
   "outputs": [],
   "source": [
    "import cv2 \n",
    "Ujjwal_img = np.zeros((2000,1500,3), dtype=\"uint8\")\n",
    "for i in range(0,1000):\n",
    "    radius = np.random.randint(0,high=50)\n",
    "    color = np.random.randint(0, high=1000, size=(3,)).tolist()\n",
    "    pt = np.random.randint(0,high=5000, size=(2,))\n",
    "    cv2.circle(Ujjwal_img, tuple(pt), radius , color ,-1)\n",
    "\n",
    "cv2.imshow(\"Created by Ujjwal\" ,Ujjwal_img)\n",
    "cv2.waitKey()\n",
    "cv2.destroyAllWindows()"
   ]
  },
  {
   "cell_type": "code",
   "execution_count": 3,
   "metadata": {},
   "outputs": [],
   "source": [
    "Rob = cv2.resize(cv2.imread(\"Robot.jpg\"),(1200,800))"
   ]
  },
  {
   "cell_type": "code",
   "execution_count": null,
   "metadata": {},
   "outputs": [],
   "source": []
  }
 ],
 "metadata": {
  "kernelspec": {
   "display_name": "Python 3",
   "language": "python",
   "name": "python3"
  },
  "language_info": {
   "codemirror_mode": {
    "name": "ipython",
    "version": 3
   },
   "file_extension": ".py",
   "mimetype": "text/x-python",
   "name": "python",
   "nbconvert_exporter": "python",
   "pygments_lexer": "ipython3",
   "version": "3.8.3"
  }
 },
 "nbformat": 4,
 "nbformat_minor": 4
}
