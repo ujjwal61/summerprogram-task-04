{
 "cells": [
  {
   "cell_type": "code",
   "execution_count": 1,
   "metadata": {},
   "outputs": [],
   "source": [
    "import cv2\n",
    "import numpy as np"
   ]
  },
  {
   "cell_type": "code",
   "execution_count": 2,
   "metadata": {},
   "outputs": [],
   "source": [
    "ujjwal = cv2.resize(cv2.imread(\"ujjwal.jpeg\"),(250,250))\n",
    "#ujjwal = cv2.resize(ujjwal,(320,320))\n",
    "shreya = cv2.resize(cv2.imread(\"shreya.jpeg\"),(250,250))\n",
    "#shreya = cv2.resize(shreya,(320,320))\n",
    "Shivam = cv2.resize(cv2.imread(\"Shivam.jpeg\"),(250,250))\n",
    "#Shivam = cv2.resize(Shivam,(320,320))\n",
    "Kunnu = cv2.resize(cv2.imread(\"Kunnu.jpeg\"),(250,250))\n",
    "#Kunnu = cv2.resize(Kunnu,(320,320))\n",
    "Raj = cv2.resize(cv2.imread(\"Raj.jpeg\"),(250,250))\n",
    "#Raj = cv2.resize(Raj,(320,320))\n",
    "Raj = cv2.resize(cv2.imread(\"Raj.jpeg\"),(250,250))\n"
   ]
  },
  {
   "cell_type": "code",
   "execution_count": 3,
   "metadata": {},
   "outputs": [],
   "source": [
    "cv2.imshow(\"ujjwal\",ujjwal)\n",
    "cv2.waitKey()\n",
    "cv2.destroyAllWindows()"
   ]
  },
  {
   "cell_type": "code",
   "execution_count": 4,
   "metadata": {},
   "outputs": [],
   "source": [
    "cv2.imshow(\"heroine\",shreya)\n",
    "cv2.waitKey()\n",
    "cv2.destroyAllWindows()"
   ]
  },
  {
   "cell_type": "code",
   "execution_count": 5,
   "metadata": {},
   "outputs": [],
   "source": [
    "cv2.imshow(\"Shivam\",Shivam)\n",
    "cv2.waitKey()\n",
    "cv2.destroyAllWindows()"
   ]
  },
  {
   "cell_type": "code",
   "execution_count": 6,
   "metadata": {},
   "outputs": [],
   "source": [
    "cv2.imshow(\"Kunnu\",Kunnu)\n",
    "cv2.waitKey()\n",
    "cv2.destroyAllWindows()"
   ]
  },
  {
   "cell_type": "code",
   "execution_count": 7,
   "metadata": {},
   "outputs": [],
   "source": [
    "cv2.imshow(\"Raj\",Raj)\n",
    "cv2.waitKey()\n",
    "cv2.destroyAllWindows()"
   ]
  },
  {
   "cell_type": "code",
   "execution_count": 8,
   "metadata": {},
   "outputs": [],
   "source": [
    "Raj_Kunnu = np.concatenate((Raj, Kunnu), axis=1)\n",
    "  \n",
    "shivam_ujjwal = np.concatenate((Shivam, ujjwal), axis=0)\n",
    "\n",
    "friends = np.concatenate((ujjwal, shreya , Kunnu, Raj, Shivam), axis=1)\n",
    "   \n",
    "cv2.imshow('Raj and Kunnu', Raj_Kunnu)\n",
    "cv2.imshow('shivam and shreya', shivam_ujjwal)\n",
    "cv2.imshow('Team View ', friends)\n",
    "cv2.waitKey(0)\n",
    "cv2.destroyAllWindows()"
   ]
  },
  {
   "cell_type": "code",
   "execution_count": null,
   "metadata": {},
   "outputs": [],
   "source": []
  }
 ],
 "metadata": {
  "kernelspec": {
   "display_name": "Python 3",
   "language": "python",
   "name": "python3"
  },
  "language_info": {
   "codemirror_mode": {
    "name": "ipython",
    "version": 3
   },
   "file_extension": ".py",
   "mimetype": "text/x-python",
   "name": "python",
   "nbconvert_exporter": "python",
   "pygments_lexer": "ipython3",
   "version": "3.8.3"
  }
 },
 "nbformat": 4,
 "nbformat_minor": 4
}
